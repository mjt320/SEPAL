{
 "cells": [
  {
   "cell_type": "markdown",
   "id": "eb332c7d-4589-47da-81d0-e2697ee70254",
   "metadata": {},
   "source": [
    "## Signal models demo"
   ]
  },
  {
   "cell_type": "code",
   "execution_count": 1,
   "id": "42671502-6096-4107-8c21-3f876b950a66",
   "metadata": {
    "tags": []
   },
   "outputs": [],
   "source": [
    "import sys\n",
    "import matplotlib.pyplot as plt\n",
    "import numpy as np\n",
    "sys.path.append('..')\n",
    "import signal_models\n",
    "%load_ext autoreload\n",
    "%autoreload 2"
   ]
  },
  {
   "cell_type": "markdown",
   "id": "33acaa3b-10e0-454f-b62b-6a2cb5b1d0f4",
   "metadata": {},
   "source": [
    "### The SignalModel Class\n",
    "This abstract base class represents different signal models i.e. conversion between relaxation parameters and signal intensity for a given pulse sequence. The model is defined by specifying the sequence parameters. At present, only the SPGR signal model is implemented:"
   ]
  },
  {
   "cell_type": "code",
   "execution_count": 13,
   "id": "c2e14ed8-c6f6-4e79-9fe0-fbc9b323d156",
   "metadata": {},
   "outputs": [],
   "source": [
    "sm = signal_models.SPGR(tr=5e-3, fa=15, te=1.5e-3)"
   ]
  },
  {
   "cell_type": "code",
   "execution_count": 15,
   "id": "25cb9206-ef8d-4d4f-bf82-779d9463530a",
   "metadata": {},
   "outputs": [
    {
     "data": {
      "text/plain": [
       "Text(0, 0.5, 'signal')"
      ]
     },
     "execution_count": 15,
     "metadata": {},
     "output_type": "execute_result"
    },
    {
     "data": {
      "image/png": "[encoded data removed]",
      "text/plain": [
       "<Figure size 432x288 with 1 Axes>"
      ]
     },
     "metadata": {
      "needs_background": "light"
     },
     "output_type": "display_data"
    }
   ],
   "source": [
    "R1_range = np.linspace(0.5, 50, 100)\n",
    "s = sm.R_to_s(s0=100, R1=R1_range, R2s=0, k_fa=1)\n",
    "\n",
    "plt.plot(R1_range, s)\n",
    "plt.xlabel('R1 (/s)')\n",
    "plt.ylabel('signal')"
   ]
  }
 ],
 "metadata": {
  "kernelspec": {
   "display_name": "Python 3 (ipykernel)",
   "language": "python",
   "name": "python3"
  },
  "language_info": {
   "codemirror_mode": {
    "name": "ipython",
    "version": 3
   },
   "file_extension": ".py",
   "mimetype": "text/x-python",
   "name": "python",
   "nbconvert_exporter": "python",
   "pygments_lexer": "ipython3",
   "version": "3.7.10"
  }
 },
 "nbformat": 4,
 "nbformat_minor": 5
}
