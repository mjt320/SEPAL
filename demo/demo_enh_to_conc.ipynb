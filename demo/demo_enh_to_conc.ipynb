{
 "cells": [
  {
   "cell_type": "markdown",
   "source": [
    "## Enhancement to concentration"
   ],
   "metadata": {
    "collapsed": false,
    "pycharm": {
     "name": "#%% md\n"
    }
   }
  },
  {
   "cell_type": "code",
   "execution_count": 2,
   "id": "3b2d4aa7-5b11-44fc-ad48-069caaeab47a",
   "metadata": {
    "pycharm": {
     "name": "#%%\n"
    }
   },
   "outputs": [
    {
     "name": "stdout",
     "output_type": "stream",
     "text": [
      "The autoreload extension is already loaded. To reload it, use:\n",
      "  %reload_ext autoreload\n"
     ]
    }
   ],
   "source": [
    "import sys\n",
    "import matplotlib.pyplot as plt\n",
    "import numpy as np\n",
    "sys.path.append('../src')\n",
    "import dce_fit, relaxivity, signal_models, aifs\n",
    "%load_ext autoreload\n",
    "%autoreload 2"
   ]
  },
  {
   "cell_type": "markdown",
   "source": [
    "### Set parameters"
   ],
   "metadata": {
    "collapsed": false,
    "pycharm": {
     "name": "#%% md\n"
    }
   }
  },
  {
   "cell_type": "code",
   "execution_count": 8,
   "id": "9439e538-cdd8-4849-bedf-1ead532f0811",
   "metadata": {
    "pycharm": {
     "name": "#%%\n"
    }
   },
   "outputs": [],
   "source": [
    "r1, r2 = 5.0, 0\n",
    "tr, fa, te  = 3.4e-3, 15, 1.7e-3\n",
    "t10 = 2\n",
    "k_fa = 1.0\n",
    "c_to_r_model = relaxivity.CRLinear(r1, r2)\n",
    "signal_model = signal_models.SPGR(tr, fa, te)"
   ]
  },
  {
   "cell_type": "markdown",
   "source": [
    "Plot enh vs. concentration:"
   ],
   "metadata": {
    "collapsed": false,
    "pycharm": {
     "name": "#%% md\n"
    }
   }
  },
  {
   "cell_type": "code",
   "execution_count": 37,
   "outputs": [
    {
     "data": {
      "text/plain": "[<matplotlib.lines.Line2D at 0x1e5774560d0>]"
     },
     "execution_count": 37,
     "metadata": {},
     "output_type": "execute_result"
    },
    {
     "data": {
      "text/plain": "<Figure size 432x288 with 1 Axes>",
      "image/png": "[encoded data removed]"
     },
     "metadata": {
      "needs_background": "light"
     },
     "output_type": "display_data"
    }
   ],
   "source": [
    "conc_range = np.arange(-3, -2, 0.005)\n",
    "enh = dce_fit.conc_to_enh(conc_range, t10, k_fa, c_to_r_model, signal_model)\n",
    "plt.plot(conc_range, enh)"
   ],
   "metadata": {
    "collapsed": false,
    "pycharm": {
     "name": "#%%\n"
    }
   }
  },
  {
   "cell_type": "markdown",
   "source": [
    "First use the general method to convert enhancement to concentration.\n",
    "This uses a numerical method to estimate concentration.\n",
    "Accounts for pulse sequence and T2* dephasing."
   ],
   "metadata": {
    "collapsed": false,
    "pycharm": {
     "name": "#%% md\n"
    }
   }
  },
  {
   "cell_type": "code",
   "execution_count": null,
   "outputs": [],
   "source": [
    "c_to_r_model = relaxivity.CRLinear(r1, r2)\n",
    "signal_model = signal_models.SPGR(tr, fa, te)\n",
    "e_to_c_general = dce_fit.EnhToConc(c_to_r_model, signal_model)"
   ],
   "metadata": {
    "collapsed": false,
    "pycharm": {
     "name": "#%%\n"
    }
   }
  },
  {
   "cell_type": "markdown",
   "source": [
    "Now use the analytical method.\n",
    "This assumes the SPGR pulse sequence.\n",
    "It does not account for T2* dephasing."
   ],
   "metadata": {
    "collapsed": false,
    "pycharm": {
     "name": "#%% md\n"
    }
   }
  },
  {
   "cell_type": "code",
   "execution_count": 51,
   "outputs": [
    {
     "data": {
      "text/plain": "<Figure size 432x288 with 1 Axes>",
      "image/png": "[encoded data removed]"
     },
     "metadata": {
      "needs_background": "light"
     },
     "output_type": "display_data"
    }
   ],
   "source": [
    "e_to_c_ana = dce_fit.EnhToConcSPGR(tr, fa, r1)\n",
    "e_range = np.arange(-1000,2000,1.1)\n",
    "C_t_ana = e_to_c_ana.proc(e_range, t10, k_fa=k_fa)\n",
    "plt.plot(e_range, C_t_ana);\n"
   ],
   "metadata": {
    "collapsed": false,
    "pycharm": {
     "name": "#%%\n"
    }
   }
  },
  {
   "cell_type": "code",
   "execution_count": null,
   "outputs": [],
   "source": [
    "\n",
    "enh = np.arange(3000)\n",
    "\n",
    "c_to_r_model = relaxivity.CRLinear(r1, r2)\n",
    "signal_model = signal_models.SPGR(tr, fa, te)\n",
    "e_to_c_num = dce_fit.EnhToConc(c_to_r_model, signal_model)\n",
    "C_t_num = e_to_c_num.proc(enh, t10, k_fa)\n",
    "\n",
    "e_to_c_ana = dce_fit.EnhToConcSPGR(tr, fa, r1)\n",
    "C_t_ana = e_to_c_ana.proc(enh, t10, k_fa)\n",
    "\n",
    "plt.plot(enh, C_t_num, 'k-',\n",
    "         enh, C_t_ana, 'r-')"
   ],
   "metadata": {
    "collapsed": false,
    "pycharm": {
     "name": "#%%\n"
    }
   }
  }
 ],
 "metadata": {
  "kernelspec": {
   "display_name": "Python 3",
   "language": "python",
   "name": "python3"
  },
  "language_info": {
   "codemirror_mode": {
    "name": "ipython",
    "version": 3
   },
   "file_extension": ".py",
   "mimetype": "text/x-python",
   "name": "python",
   "nbconvert_exporter": "python",
   "pygments_lexer": "ipython3",
   "version": "3.8.8"
  }
 },
 "nbformat": 4,
 "nbformat_minor": 5
}