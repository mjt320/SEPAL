{
 "cells": [
  {
   "cell_type": "code",
   "execution_count": 1,
   "id": "affected-indonesia",
   "metadata": {},
   "outputs": [],
   "source": [
    "import sys\n",
    "sys.path.append('..\\\\src')\n",
    "%load_ext autoreload\n",
    "%autoreload 2"
   ]
  },
  {
   "cell_type": "code",
   "execution_count": 2,
   "id": "moderate-consumer",
   "metadata": {},
   "outputs": [],
   "source": [
    "import matplotlib.pyplot as plt\n",
    "import numpy as np"
   ]
  },
  {
   "cell_type": "code",
   "execution_count": 34,
   "id": "cosmetic-freeze",
   "metadata": {},
   "outputs": [
    {
     "name": "stdout",
     "output_type": "stream",
     "text": [
      "2-point estimate (ground truth): s0 = 49982.8 (50000.0), t1 = 0.7061 (0.7071)\n",
      "linear estimate (ground truth): s0 = 49990.6 (50000.0), t1 = 0.7073 (0.7071)\n",
      "non-linear estimate (ground truth): s0 = 50012.2 (50000.0), t1 = 0.7080 (0.7071)\n"
     ]
    }
   ],
   "source": [
    "from dce import t1_fit\n",
    "# use QIBA DRO voxel to demonstrate\n",
    "s0_gt, t1_gt = 50000, 1e-3/0.0014142 # ground-truth values\n",
    "fa = np.array([3, 6, 9, 15, 24, 35])\n",
    "tr = 0.005\n",
    "s = np.array([2193, 2949, 2859, 2227, 1541, 1084])\n",
    "fa_rad = fa * (np.pi/180.)\n",
    "\n",
    "# estimate T1 based on lowest and highest flip angles\n",
    "s0_2_point, t1_2_point = t1_fit.fit_vfa_2_point(s[[0,-1]], fa_rad[[0,-1]], tr)\n",
    "print(f\"2-point estimate (ground truth): s0 = {s0_2_point:.1f} ({s0_gt:.1f}), t1 = {t1_2_point:.4f} ({t1_gt:.4f})\")\n",
    "\n",
    "# estimate using linear regression method\n",
    "s0_linear, t1_linear = t1_fit.fit_vfa_linear(s, fa_rad, tr)\n",
    "print(f\"linear estimate (ground truth): s0 = {s0_linear:.1f} ({s0_gt:.1f}), t1 = {t1_linear:.4f} ({t1_gt:.4f})\")\n",
    "\n",
    "# estimate using non-linear fitting method\n",
    "s0_nonlinear, t1_nonlinear = t1_fit.fit_vfa_nonlinear(s, fa_rad, tr)\n",
    "print(f\"non-linear estimate (ground truth): s0 = {s0_nonlinear:.1f} ({s0_gt:.1f}), t1 = {t1_nonlinear:.4f} ({t1_gt:.4f})\")"
   ]
  }
 ],
 "metadata": {
  "kernelspec": {
   "display_name": "Python 3",
   "language": "python",
   "name": "python3"
  },
  "language_info": {
   "codemirror_mode": {
    "name": "ipython",
    "version": 3
   },
   "file_extension": ".py",
   "mimetype": "text/x-python",
   "name": "python",
   "nbconvert_exporter": "python",
   "pygments_lexer": "ipython3",
   "version": "3.7.6"
  }
 },
 "nbformat": 4,
 "nbformat_minor": 5
}
