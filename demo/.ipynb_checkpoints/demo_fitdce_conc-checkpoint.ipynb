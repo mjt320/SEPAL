{
 "cells": [
  {
   "cell_type": "code",
   "execution_count": 1,
   "id": "broad-sauce",
   "metadata": {},
   "outputs": [],
   "source": [
    "import sys\n",
    "sys.path.append('..\\\\src')\n",
    "%load_ext autoreload\n",
    "%autoreload 2"
   ]
  },
  {
   "cell_type": "code",
   "execution_count": 2,
   "id": "swiss-evidence",
   "metadata": {},
   "outputs": [],
   "source": [
    "import matplotlib.pyplot as plt\n",
    "import numpy as np"
   ]
  },
  {
   "cell_type": "markdown",
   "id": "waiting-blast",
   "metadata": {},
   "source": [
    "---\n",
    "### Set up data"
   ]
  },
  {
   "cell_type": "code",
   "execution_count": 11,
   "id": "induced-appendix",
   "metadata": {},
   "outputs": [],
   "source": [
    "from dce import fit, relax, signal_models, water_ex_models\n",
    "\n",
    "# data\n",
    "t = np.array([19.810000,59.430000,99.050000,138.670000,178.290000,217.910000,257.530000,297.150000,336.770000,376.390000,416.010000,455.630000,495.250000,534.870000,574.490000,614.110000,653.730000,693.350000,732.970000,772.590000,812.210000,851.830000,891.450000,931.070000,970.690000,1010.310000,1049.930000,1089.550000,1129.170000,1168.790000,1208.410000,1248.030000])\n",
    "c_ap = np.array([-0.004937,0.002523,0.002364,0.005698,0.264946,0.738344,1.289008,1.826013,1.919158,1.720187,1.636699,1.423867,1.368308,1.263610,1.190378,1.132603,1.056400,1.066964,1.025331,1.015179,0.965908,0.928219,0.919029,0.892000,0.909929,0.865766,0.857195,0.831985,0.823747,0.815591,0.776007,0.783767])\n",
    "s_vif = np.array([448.200000,468.000000,467.600000,476.400000,1096.200000,1994.800000,2780.600000,3364.800000,3445.600000,3268.800000,3178.200000,2941.000000,2876.200000,2746.200000,2655.800000,2584.600000,2480.200000,2492.800000,2431.400000,2418.400000,2345.200000,2297.800000,2282.800000,2247.200000,2268.600000,2199.400000,2191.000000,2154.600000,2132.200000,2125.800000,2062.400000,2068.600000])\n",
    "s_tissue = np.array([474.299504,470.430226,462.800883,471.854385,486.068946,498.952013,520.548814,534.123001,529.478764,530.435190,522.399338,516.543850,518.434639,512.765030,520.986211,506.375069,506.665196,511.359073,512.912852,505.552124,507.895753,504.699393,507.365692,510.534473,504.477661,514.434639,505.516271,500.071153,510.688913,508.190292,509.127965,505.981798])\n",
    "r0_tissue = relax.relaxation(r_1 = 1./1.2792, r_2s = 0.)\n",
    "r0_vif = relax.relaxation(r_1 = 1./1.9183, r_2s = 0.)\n",
    "k_vif, k_tissue = 0.9271, 1.1996\n",
    "hct = 0.37\n",
    "tr, fa_rad, te = 3.4e-3, 15.*(np.pi/180.), 1.7e-3\n",
    "\n",
    "# time points to use for baseline\n",
    "baseline_idx = [0,1,2]\n",
    "\n",
    "# specify relaxivity\n",
    "rlxy = relax.relaxivity(r_1 = 5.0, r_2s = 7.1)\n",
    "# specify conc to relaxation rate model\n",
    "c_to_r_model = relax.c_to_r_linear(rlxy)\n",
    "# specify signal model\n",
    "signal_model = signal_models.spgr(tr, fa_rad, te)"
   ]
  },
  {
   "cell_type": "markdown",
   "id": "empirical-reply",
   "metadata": {},
   "source": [
    "### Convert signal to enhancement"
   ]
  },
  {
   "cell_type": "code",
   "execution_count": 35,
   "id": "vocal-shoulder",
   "metadata": {},
   "outputs": [
    {
     "data": {
      "image/png": "[encoded data removed]",
      "text/plain": [
       "<Figure size 432x288 with 6 Axes>"
      ]
     },
     "metadata": {
      "needs_background": "light"
     },
     "output_type": "display_data"
    }
   ],
   "source": [
    "from dce import fit\n",
    "enh_vif = fit.s_to_e(s_vif, baseline_idx)\n",
    "enh_tissue = fit.s_to_e(s_tissue, baseline_idx)\n",
    "\n",
    "c_p_vif = fit.e_to_c(enh_vif, k_vif, r0_vif, c_to_r_model, signal_model) / (1 - hct)\n",
    "c_t = fit.e_to_c(enh_tissue, k_tissue, r0_tissue, c_to_r_model, signal_model) / (1 - hct)\n",
    "\n",
    "fig, ax = plt.subplots(3,2)\n",
    "ax[0,0].plot(t, s_vif, '.', label='vif signal')\n",
    "ax[0,1].plot(t, s_tissue, '.', label='tissue signal')\n",
    "ax[1,0].plot(t, enh_vif, '.', label='vif enh')\n",
    "ax[1,1].plot(t, enh_tissue, '.', label='tissue enh')\n",
    "ax[2,0].plot(t, c_p_vif, '.', label='vif plasma conc')\n",
    "ax[2,1].plot(t, c_t, '.', label='tissue conc')\n",
    "[a.legend() for a in ax.flatten()];"
   ]
  },
  {
   "cell_type": "markdown",
   "id": "ignored-walker",
   "metadata": {},
   "source": [
    "### Fit tissue concentration to pharmacokinetic model"
   ]
  },
  {
   "cell_type": "code",
   "execution_count": 39,
   "id": "stuck-bangkok",
   "metadata": {},
   "outputs": [
    {
     "ename": "NameError",
     "evalue": "name 'c_tissue' is not defined",
     "output_type": "error",
     "traceback": [
      "\u001b[1;31m---------------------------------------------------------------------------\u001b[0m",
      "\u001b[1;31mNameError\u001b[0m                                 Traceback (most recent call last)",
      "\u001b[1;32m<ipython-input-39-c0631193fc3c>\u001b[0m in \u001b[0;36m<module>\u001b[1;34m\u001b[0m\n\u001b[0;32m      8\u001b[0m             't_mask': np.array(np.concatenate([np.zeros(7), np.ones(25)]),dtype=bool) }\n\u001b[0;32m      9\u001b[0m \u001b[1;33m\u001b[0m\u001b[0m\n\u001b[1;32m---> 10\u001b[1;33m \u001b[0mfit\u001b[0m\u001b[1;33m.\u001b[0m\u001b[0mc_to_pkp\u001b[0m\u001b[1;33m(\u001b[0m\u001b[0mc_tissue\u001b[0m\u001b[1;33m,\u001b[0m \u001b[0mpk_model\u001b[0m\u001b[1;33m,\u001b[0m \u001b[0mfit_opts\u001b[0m\u001b[1;33m)\u001b[0m\u001b[1;33m\u001b[0m\u001b[1;33m\u001b[0m\u001b[0m\n\u001b[0m",
      "\u001b[1;31mNameError\u001b[0m: name 'c_tissue' is not defined"
     ]
    }
   ],
   "source": [
    "from dce import fit, aifs, pk_models\n",
    "\n",
    "aif = aifs.patient_specific(t, c_p_vif)\n",
    "dt_interp_request = t[1]-t[0]\n",
    "\n",
    "pk_model = pk_models.patlak(t, dt_interp_request, aif, hct) \n",
    "fit_opts = {'pk_pars_0': {'vp': 0.2, 'ps': 1e-4},\n",
    "            't_mask': np.array(np.concatenate([np.zeros(7), np.ones(25)]),dtype=bool) }\n",
    "\n",
    "fit.c_to_pkp(c_tissue, pk_model, fit_opts)"
   ]
  }
 ],
 "metadata": {
  "kernelspec": {
   "display_name": "Python 3",
   "language": "python",
   "name": "python3"
  },
  "language_info": {
   "codemirror_mode": {
    "name": "ipython",
    "version": 3
   },
   "file_extension": ".py",
   "mimetype": "text/x-python",
   "name": "python",
   "nbconvert_exporter": "python",
   "pygments_lexer": "ipython3",
   "version": "3.7.6"
  }
 },
 "nbformat": 4,
 "nbformat_minor": 5
}
