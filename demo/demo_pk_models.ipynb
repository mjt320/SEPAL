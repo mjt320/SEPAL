{
 "cells": [
  {
   "cell_type": "markdown",
   "id": "fifty-passport",
   "metadata": {},
   "source": [
    "## Pharmacokinetic model class\n",
    "Import modules"
   ]
  },
  {
   "cell_type": "code",
   "execution_count": 1,
   "id": "internal-arbor",
   "metadata": {},
   "outputs": [],
   "source": [
    "import sys\n",
    "import matplotlib.pyplot as plt\n",
    "import numpy as np\n",
    "sys.path.append('..\\\\src')\n",
    "sys.path.append('..\\\\..\\\\DCE-DSC-MRI_CodeCollection\\\\src')\n",
    "%load_ext autoreload\n",
    "%autoreload 2"
   ]
  },
  {
   "cell_type": "markdown",
   "id": "arabic-latvia",
   "metadata": {},
   "source": [
    "### Create a pharmacokinetic model object\n",
    "To do this we need to specify:\n",
    "- The time points at which we want to calculate concentration\n",
    "- An AIF object\n",
    "- Optionally, the temporal resolution to use when using interpolation to calculate the convolution."
   ]
  },
  {
   "cell_type": "code",
   "execution_count": 12,
   "id": "detected-brave",
   "metadata": {},
   "outputs": [],
   "source": [
    "from dce import aifs, pk_models\n",
    "# define timepoints at which we want to calculate concentration\n",
    "# assume an acquisition of 200 volumes, each taking 1s to acquire, starting at t=0 with linear phase encoding\n",
    "# the time points are therefore t = 0.5, 1.5, ..., 199.5 s\n",
    "dt = 1.\n",
    "t = np.arange(0,200)*dt + dt/2\n",
    "\n",
    "# create an AIF, with contrast injected at t = 15s\n",
    "aif = aifs.parker(hct=0.42, t_start=15.)\n",
    "\n",
    "# create the pharmacokinetic model object (2-compartment exchange model)\n",
    "pk_model = pk_models.tcxm(t, aif)\n",
    "\n",
    "\n",
    "# pk_pars = {'vp': 0.01, 'ps': 5e-3, 've': 0.2, 'fp': 30, 'ktrans': 5e-2}\n",
    "\n",
    "# noise = 0.001\n",
    "\n",
    "# # generate \"measured\" concentration with noise\n",
    "# c_t, _c_cp, _c_e = pk_model.conc(**pk_pars)\n",
    "# c_t += np.random.normal(loc = 0., scale = noise, size = c_t.shape)\n",
    "\n",
    "# # fit measured concentration using the same pharmacokinetic model\n",
    "# pk_pars_0 = [{'vp': 0.1, 'ps': 5e-3, 've': 0.3, 'fp': 20, 'ktrans': 1e-4},\n",
    "#                          {'vp': 0.1, 'ps': 5e-3, 've': 0.3, 'fp': 20, 'ktrans': 1e-4}]\n",
    "# pk_pars_fit, c_t_fit = dce_fit.conc_to_pkp(c_t, pk_model, pk_pars_0)\n",
    "\n",
    "# print(\"parameter: value (ground truth)\")\n",
    "# [ print(f\"{key}: {val:.6f} ({pk_pars[key]:.6f})\") for key, val in pk_pars_fit.items() ]\n",
    "\n",
    "# fig, ax = plt.subplots(1,2, figsize=(10,4))\n",
    "# ax[0].plot(t, aif.c_ap(t));\n",
    "# ax[0].set_title('AIF');\n",
    "# ax[1].plot(t, c_t, 'b.', t, c_t_fit, 'r-');\n",
    "# ax[1].set_title('tissue conc and model fit');"
   ]
  },
  {
   "cell_type": "markdown",
   "id": "90bffea3-32b6-437d-9c10-a3e089e5be05",
   "metadata": {},
   "source": [
    "The pk_model can provide the list of required parameters and some typical values to use for scaling or initial estimates..."
   ]
  },
  {
   "cell_type": "code",
   "execution_count": 14,
   "id": "aff1c85b-13af-45e9-b1d5-fd48f63f2a48",
   "metadata": {},
   "outputs": [
    {
     "name": "stdout",
     "output_type": "stream",
     "text": [
      "Parameter names for this model are: ('vp', 'ps', 've', 'fp')\n",
      "Typical values for these parameters are: [ 0.1   0.05  0.5  50.  ]\n"
     ]
    }
   ],
   "source": [
    "print(f\"Parameter names for this model are: {pk_model.PARAMETER_NAMES}\")\n",
    "print(f\"Typical values for these parameters are: {pk_model.typical_vals}\")"
   ]
  },
  {
   "cell_type": "code",
   "execution_count": null,
   "id": "3d597c99-9549-419a-9804-84cd136dc5de",
   "metadata": {},
   "outputs": [],
   "source": []
  },
  {
   "cell_type": "markdown",
   "id": "fitting-assault",
   "metadata": {},
   "source": [
    "---\n",
    "### Signal-time data"
   ]
  },
  {
   "cell_type": "code",
   "execution_count": 10,
   "id": "e1ea50a2-b7ff-4599-84fa-db25734dc398",
   "metadata": {},
   "outputs": [
    {
     "name": "stdout",
     "output_type": "stream",
     "text": [
      "parameter: value (ground truth)\n",
      "vp: 0.010008 (0.010000)\n",
      "ps: 0.005055 (0.005000)\n",
      "ve: 0.159651 (0.200000)\n",
      "fp: 30.301731 (30.000000)\n"
     ]
    },
    {
     "data": {
      "text/plain": [
       "Text(0.5, 1.0, 'enhancement and fit')"
      ]
     },
     "execution_count": 10,
     "metadata": {},
     "output_type": "execute_result"
    },
    {
     "data": {
      "image/png": "[encoded data removed]",
      "text/plain": [
       "<Figure size 864x288 with 3 Axes>"
      ]
     },
     "metadata": {
      "needs_background": "light"
     },
     "output_type": "display_data"
    }
   ],
   "source": [
    "from dce import aifs, pk_models, dce_fit, relaxivity, signal_models, water_ex_models\n",
    "\n",
    "# define timepoints\n",
    "dt = 1.\n",
    "t = np.arange(0,200)*dt + dt/2\n",
    "\n",
    "# define AIF, pharmacokinetic model and noise level\n",
    "aif = aifs.parker(hct=0.42, t_start=15.)\n",
    "pk_pars = {'vp': 0.01, 'ps': 5e-3, 've': 0.2, 'fp': 30, 'ktrans': 5e-2}\n",
    "pk_model = pk_models.tcxm(t, aif) # <-- CHANGE THE MODEL HERE\n",
    "\n",
    "R10_tissue = 1./0.8\n",
    "R10_vif = 1./1.7\n",
    "k_vif, k_tissue = 1., 1.\n",
    "hct = 0.42\n",
    "tr, fa_rad, te = 4e-3, 15.*(np.pi/180.), 1.5e-3\n",
    "\n",
    "# processing options\n",
    "baseline_idx = [0,1,2]\n",
    "c_to_r_model = relaxivity.c_to_r_linear(r1=5.0, r2 = 0)\n",
    "signal_model = signal_models.spgr(tr, fa_rad, te)\n",
    "water_ex_model = water_ex_models.fxl()\n",
    "\n",
    "\n",
    "noise = 0.25\n",
    "\n",
    "# generate enhancement with noise\n",
    "c_t, _c_cp, _c_e = pk_model.conc(**pk_pars)\n",
    "enh = dce_fit.pkp_to_enh(pk_pars, hct, k_tissue, R10_tissue, R10_vif, pk_model, c_to_r_model, water_ex_model, signal_model)\n",
    "enh += np.random.normal(loc = 0., scale = noise, size = enh.shape)\n",
    "\n",
    "# fit measured concentration using the same pharmacokinetic model\n",
    "pk_pars_0 = [{'vp': 0.1, 'ps': 5e-3, 've': 0.3, 'fp': 20, 'ktrans': 1e-4},\n",
    "                         {'vp': 0.1, 'ps': 5e-3, 've': 0.3, 'fp': 20, 'ktrans': 1e-4}]\n",
    "pk_pars_fit, enh_fit = dce_fit.enh_to_pkp(enh, hct, k_tissue, R10_tissue, R10_vif, pk_model, c_to_r_model, water_ex_model, signal_model)\n",
    "\n",
    "print(\"parameter: value (ground truth)\")\n",
    "[ print(f\"{key}: {val:.6f} ({pk_pars[key]:.6f})\") for key, val in pk_pars_fit.items() ]\n",
    "\n",
    "fig, ax = plt.subplots(1,3, figsize=(12,4))\n",
    "ax[0].plot(t, aif.c_ap(t));\n",
    "ax[0].set_title('AIF');\n",
    "ax[1].plot(t, c_t, 'b.');\n",
    "ax[1].set_title('tissue conc');\n",
    "ax[2].plot(t, enh, 'b.', t, enh_fit, 'r-')\n",
    "ax[2].set_title('enhancement and fit')"
   ]
  }
 ],
 "metadata": {
  "kernelspec": {
   "display_name": "Python 3",
   "language": "python",
   "name": "python3"
  },
  "language_info": {
   "codemirror_mode": {
    "name": "ipython",
    "version": 3
   },
   "file_extension": ".py",
   "mimetype": "text/x-python",
   "name": "python",
   "nbconvert_exporter": "python",
   "pygments_lexer": "ipython3",
   "version": "3.7.10"
  }
 },
 "nbformat": 4,
 "nbformat_minor": 5
}
