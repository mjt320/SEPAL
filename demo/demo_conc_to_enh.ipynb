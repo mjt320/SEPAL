{
 "cells": [
  {
   "cell_type": "code",
   "execution_count": 34,
   "id": "3b2d4aa7-5b11-44fc-ad48-069caaeab47a",
   "metadata": {},
   "outputs": [
    {
     "name": "stdout",
     "output_type": "stream",
     "text": [
      "The autoreload extension is already loaded. To reload it, use:\n",
      "  %reload_ext autoreload\n"
     ]
    }
   ],
   "source": [
    "import sys\n",
    "import matplotlib.pyplot as plt\n",
    "import numpy as np\n",
    "sys.path.append('../src')\n",
    "import dce_fit, relaxivity, signal_models, water_ex_models, aifs, pk_models\n",
    "%load_ext autoreload\n",
    "%autoreload 2"
   ]
  },
  {
   "cell_type": "code",
   "execution_count": 41,
   "id": "9439e538-cdd8-4849-bedf-1ead532f0811",
   "metadata": {},
   "outputs": [
    {
     "data": {
      "text/plain": [
       "[<matplotlib.lines.Line2D at 0x22bbaed05e0>,\n",
       " <matplotlib.lines.Line2D at 0x22bbaed0610>]"
      ]
     },
     "execution_count": 41,
     "metadata": {},
     "output_type": "execute_result"
    },
    {
     "data": {
      "image/png": "[encoded data removed]",
      "text/plain": [
       "<Figure size 432x288 with 1 Axes>"
      ]
     },
     "metadata": {
      "needs_background": "light"
     },
     "output_type": "display_data"
    }
   ],
   "source": [
    "r1, r2 = 5.0, 0\n",
    "tr, fa, te  = 3.4e-3, 15, 1.7e-3\n",
    "t10 = 2\n",
    "k_fa = 1.4\n",
    "\n",
    "enh = np.arange(3000)\n",
    "\n",
    "c_to_r_model = relaxivity.CRLinear(r1, r2)\n",
    "signal_model = signal_models.SPGR(tr, fa, te)\n",
    "e_to_c_num = dce_fit.EnhToConc(c_to_r_model, signal_model)\n",
    "C_t_num = e_to_c_num.proc(enh, t10, k_fa)\n",
    "\n",
    "e_to_c_ana = dce_fit.EnhToConcSPGR(tr, fa, r1)\n",
    "C_t_ana = e_to_c_ana.proc(enh, t10, k_fa)\n",
    "\n",
    "plt.plot(enh, C_t_num, 'k-',\n",
    "         enh, C_t_ana, 'r-')"
   ]
  }
 ],
 "metadata": {
  "kernelspec": {
   "display_name": "Python 3",
   "language": "python",
   "name": "python3"
  },
  "language_info": {
   "codemirror_mode": {
    "name": "ipython",
    "version": 3
   },
   "file_extension": ".py",
   "mimetype": "text/x-python",
   "name": "python",
   "nbconvert_exporter": "python",
   "pygments_lexer": "ipython3",
   "version": "3.8.8"
  }
 },
 "nbformat": 4,
 "nbformat_minor": 5
}
