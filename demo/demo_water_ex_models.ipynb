{
 "cells": [
  {
   "cell_type": "markdown",
   "id": "eb332c7d-4589-47da-81d0-e2697ee70254",
   "metadata": {
    "pycharm": {
     "name": "#%% md\n"
    }
   },
   "source": [
    "## Water exchange models demo"
   ]
  },
  {
   "cell_type": "code",
   "execution_count": 1,
   "id": "42671502-6096-4107-8c21-3f876b950a66",
   "metadata": {
    "tags": [],
    "pycharm": {
     "name": "#%%\n"
    }
   },
   "outputs": [],
   "source": [
    "from sepal import water_ex_models\n",
    "%load_ext autoreload\n",
    "%autoreload 2"
   ]
  },
  {
   "cell_type": "markdown",
   "id": "33acaa3b-10e0-454f-b62b-6a2cb5b1d0f4",
   "metadata": {
    "pycharm": {
     "name": "#%% md\n"
    }
   },
   "source": [
    "### The WaterExModel Class\n",
    "This abstract base class represents different water exchange models. The purpose of such an object is to convert a set of relaxation rates for each tissue compartment (blood, EES, cells) into one or more exponential relaxation components based on the water exchange properties.  \n",
    "For example, consider the following relaxation rates and population fractions:"
   ]
  },
  {
   "cell_type": "code",
   "execution_count": 2,
   "id": "c2e14ed8-c6f6-4e79-9fe0-fbc9b323d156",
   "metadata": {
    "pycharm": {
     "name": "#%%\n"
    }
   },
   "outputs": [],
   "source": [
    "p = {'b': 0.2, 'e': 0.4, 'i': 0.4}\n",
    "R1 = {'b': 1, 'e': 2, 'i': 2.5}"
   ]
  },
  {
   "cell_type": "markdown",
   "id": "b6b07fe1-e732-4e57-9c4f-857815a6de3b",
   "metadata": {
    "pycharm": {
     "name": "#%% md\n"
    }
   },
   "source": [
    "#### FXL\n",
    "In the FXL, we end up with just one longitudinal relaxation component representing the tissue:"
   ]
  },
  {
   "cell_type": "code",
   "execution_count": 3,
   "id": "29c9d0d4-3fc0-44f5-ba00-322339389d8f",
   "metadata": {
    "pycharm": {
     "name": "#%%\n"
    }
   },
   "outputs": [
    {
     "name": "stdout",
     "output_type": "stream",
     "text": [
      "Populations: [1.0]\n",
      "R1 values: [2.0]\n"
     ]
    }
   ],
   "source": [
    "wxm = water_ex_models.FXL()\n",
    "R1_components, p_components = wxm.R1_components(p, R1)\n",
    "print(f'Populations: {p_components}')\n",
    "print(f'R1 values: {R1_components}')"
   ]
  },
  {
   "cell_type": "markdown",
   "id": "e7855797-9f25-4ef3-b04e-6dd87d78169e",
   "metadata": {
    "pycharm": {
     "name": "#%% md\n"
    }
   },
   "source": [
    "#### NXL\n",
    "In the NXL, we get 3 relaxation components corresponding to the 3 tissue compartments:"
   ]
  },
  {
   "cell_type": "code",
   "execution_count": 4,
   "id": "0e547b96-a11b-48aa-88fd-99f46638c8f3",
   "metadata": {
    "pycharm": {
     "name": "#%%\n"
    }
   },
   "outputs": [
    {
     "name": "stdout",
     "output_type": "stream",
     "text": [
      "Populations: [0.2, 0.4, 0.4]\n",
      "R1 values: [1, 2, 2.5]\n"
     ]
    }
   ],
   "source": [
    "wxm = water_ex_models.NXL()\n",
    "R1_components, p_components = wxm.R1_components(p, R1)\n",
    "print(f'Populations: {p_components}')\n",
    "print(f'R1 values: {R1_components}')"
   ]
  },
  {
   "cell_type": "markdown",
   "id": "db686624-a214-45e2-bae1-4e173f076d3f",
   "metadata": {
    "pycharm": {
     "name": "#%% md\n"
    }
   },
   "source": [
    "#### NTEXL\n",
    "In the No-TransEndothelial-water-eXchange Limit, we get relaxation components corresponding to blood and the combined extravascular spaces:"
   ]
  },
  {
   "cell_type": "code",
   "execution_count": 5,
   "id": "feaf0f84-b3c9-44ee-ae22-7144cdd59e8b",
   "metadata": {
    "pycharm": {
     "name": "#%%\n"
    }
   },
   "outputs": [
    {
     "name": "stdout",
     "output_type": "stream",
     "text": [
      "Populations: [0.2, 0.8]\n",
      "R1 values: [1, 2.25]\n"
     ]
    }
   ],
   "source": [
    "wxm = water_ex_models.NTEXL()\n",
    "R1_components, p_components = wxm.R1_components(p, R1)\n",
    "print(f'Populations: {p_components}')\n",
    "print(f'R1 values: {R1_components}')"
   ]
  },
  {
   "cell_type": "markdown",
   "id": "867ae4b1-5486-46c0-b2f8-5c73efdb0d29",
   "metadata": {
    "pycharm": {
     "name": "#%% md\n"
    }
   },
   "source": [
    "#### Other water exchange models\n",
    "Other models could be added, e.g. 3-site-2-exchange, 2-site-1-exchange."
   ]
  }
 ],
 "metadata": {
  "kernelspec": {
   "display_name": "Python 3",
   "language": "python",
   "name": "python3"
  },
  "language_info": {
   "codemirror_mode": {
    "name": "ipython",
    "version": 3
   },
   "file_extension": ".py",
   "mimetype": "text/x-python",
   "name": "python",
   "nbconvert_exporter": "python",
   "pygments_lexer": "ipython3",
   "version": "3.8.8"
  }
 },
 "nbformat": 4,
 "nbformat_minor": 5
}