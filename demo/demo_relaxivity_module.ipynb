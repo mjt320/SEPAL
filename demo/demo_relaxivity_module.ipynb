{
 "cells": [
  {
   "cell_type": "markdown",
   "id": "fifty-passport",
   "metadata": {
    "pycharm": {
     "name": "#%% md\n"
    }
   },
   "source": [
    "## Relaxivity module demo"
   ]
  },
  {
   "cell_type": "code",
   "execution_count": 1,
   "id": "internal-arbor",
   "metadata": {
    "pycharm": {
     "name": "#%%\n"
    }
   },
   "outputs": [],
   "source": [
    "import numpy as np\n",
    "from sepal import relaxivity\n",
    "%load_ext autoreload\n",
    "%autoreload 2"
   ]
  },
  {
   "cell_type": "markdown",
   "id": "arabic-latvia",
   "metadata": {
    "pycharm": {
     "name": "#%% md\n"
    }
   },
   "source": [
    "### The CRModel class\n",
    "This is an abstract base class. Subclasses represent specific relaxivity models.  \n",
    "The main function of these objects is to return relaxation rates as a function of contrast agent concentration.  \n",
    "At the moment, only the linear model is implemented:"
   ]
  },
  {
   "cell_type": "code",
   "execution_count": 2,
   "id": "4080ceab-24f8-4b2e-b57d-816474887489",
   "metadata": {
    "pycharm": {
     "name": "#%%\n"
    }
   },
   "outputs": [],
   "source": [
    "cr_model = relaxivity.CRLinear(r1=5.0, r2=7.1)"
   ]
  },
  {
   "cell_type": "markdown",
   "id": "52762d06-81e5-4153-88f5-5d0e827d7f82",
   "metadata": {
    "pycharm": {
     "name": "#%% md\n"
    }
   },
   "source": [
    "Now we can use the R1 and R2 methods to calculate the relaxation rates for a given concentration and pre-contrast relaxation rate values:"
   ]
  },
  {
   "cell_type": "code",
   "execution_count": 3,
   "id": "a3c01c12-fb5e-4aed-b9fb-b882270ba27f",
   "metadata": {
    "pycharm": {
     "name": "#%%\n"
    }
   },
   "outputs": [
    {
     "name": "stdout",
     "output_type": "stream",
     "text": [
      "[ 1.  6. 11. 16. 21. 26.]\n"
     ]
    }
   ],
   "source": [
    "C_t = np.array([0, 1, 2, 3, 4, 5])\n",
    "R10 = 1\n",
    "R1_post = cr_model.R1(R10, C_t)\n",
    "print(R1_post)"
   ]
  },
  {
   "cell_type": "markdown",
   "id": "4a7c1681-7e9d-49b2-9474-56f86a8f25ef",
   "metadata": {
    "pycharm": {
     "name": "#%% md\n"
    }
   },
   "source": [
    "Additional subclasses could be implemented to represent other concentration-relaxation relationships, e.g. quadratic."
   ]
  }
 ],
 "metadata": {
  "kernelspec": {
   "display_name": "Python 3 (ipykernel)",
   "language": "python",
   "name": "python3"
  },
  "language_info": {
   "codemirror_mode": {
    "name": "ipython",
    "version": 3
   },
   "file_extension": ".py",
   "mimetype": "text/x-python",
   "name": "python",
   "nbconvert_exporter": "python",
   "pygments_lexer": "ipython3",
   "version": "3.7.10"
  }
 },
 "nbformat": 4,
 "nbformat_minor": 5
}