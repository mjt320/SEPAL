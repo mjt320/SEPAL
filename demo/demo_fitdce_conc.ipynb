{
 "cells": [
  {
   "cell_type": "code",
   "execution_count": 1,
   "id": "phantom-knowing",
   "metadata": {},
   "outputs": [],
   "source": [
    "import sys\n",
    "sys.path.append('..\\\\src')\n",
    "%load_ext autoreload\n",
    "%autoreload 2"
   ]
  },
  {
   "cell_type": "code",
   "execution_count": 2,
   "id": "brazilian-reggae",
   "metadata": {},
   "outputs": [],
   "source": [
    "import matplotlib.pyplot as plt\n",
    "import numpy as np"
   ]
  },
  {
   "cell_type": "markdown",
   "id": "pediatric-theta",
   "metadata": {},
   "source": [
    "---\n",
    "### Set up data"
   ]
  },
  {
   "cell_type": "code",
   "execution_count": 3,
   "id": "collaborative-gothic",
   "metadata": {},
   "outputs": [],
   "source": [
    "from dce import fit, relax, signal_models, water_ex_models\n",
    "\n",
    "# DCE data (subject 4)\n",
    "t = np.array([19.810000,59.430000,99.050000,138.670000,178.290000,217.910000,257.530000,297.150000,336.770000,376.390000,416.010000,455.630000,495.250000,534.870000,574.490000,614.110000,653.730000,693.350000,732.970000,772.590000,812.210000,851.830000,891.450000,931.070000,970.690000,1010.310000,1049.930000,1089.550000,1129.170000,1168.790000,1208.410000,1248.030000])\n",
    "s_vif = np.array([411.400000,420.200000,419.600000,399.000000,1650.400000,3229.200000,3716.200000,3375.600000,3022.000000,2801.200000,2669.800000,2413.800000,2321.400000,2231.400000,2152.800000,2138.200000,2059.200000,2037.600000,2008.200000,1998.800000,1936.800000,1939.400000,1887.000000,1872.800000,1840.200000,1820.400000,1796.200000,1773.000000,1775.600000,1762.000000,1693.400000,1675.800000])\n",
    "s_tissue = np.array([378.774277,380.712810,378.789773,382.467975,407.950413,443.482955,446.239153,433.392045,425.428202,426.274793,420.676653,417.144112,410.072831,422.042355,414.013430,410.885847,405.251033,415.864669,418.615186,406.327479,408.692149,406.797004,418.646694,408.176136,404.993285,405.098140,417.022211,408.189050,409.819731,401.988636,405.866219,406.299587])\n",
    "r0_tissue = relax.relaxation(r_1 = 1./1.3651, r_2s = 0.)\n",
    "r0_vif = relax.relaxation(r_1 = 1./1.7206, r_2s = 0.)\n",
    "k_vif, k_tissue = 0.9946, 1.2037\n",
    "hct = 0.46\n",
    "tr, fa_rad, te = 3.4e-3, 15.*(np.pi/180.), 1.7e-3\n",
    "\n",
    "# time points to use for baseline\n",
    "baseline_idx = [0,1,2]\n",
    "\n",
    "# specify relaxivity\n",
    "rlxy = relax.relaxivity(r_1 = 5.0, r_2s = 7.1)\n",
    "# specify conc to relaxation rate model\n",
    "c_to_r_model = relax.c_to_r_linear(rlxy)\n",
    "# specify signal model\n",
    "signal_model = signal_models.spgr(tr, fa_rad, te)"
   ]
  },
  {
   "cell_type": "markdown",
   "id": "equal-vinyl",
   "metadata": {},
   "source": [
    "### Convert signal to enhancement"
   ]
  },
  {
   "cell_type": "code",
   "execution_count": 4,
   "id": "compressed-dietary",
   "metadata": {},
   "outputs": [
    {
     "data": {
      "image/png": "[encoded data removed]",
      "text/plain": [
       "<Figure size 432x288 with 6 Axes>"
      ]
     },
     "metadata": {
      "needs_background": "light"
     },
     "output_type": "display_data"
    }
   ],
   "source": [
    "from dce import fit\n",
    "enh_vif = fit.s_to_e(s_vif, baseline_idx)\n",
    "enh_tissue = fit.s_to_e(s_tissue, baseline_idx)\n",
    "\n",
    "c_p_vif = fit.e_to_c(enh_vif, k_vif, r0_vif, c_to_r_model, signal_model) / (1 - hct)\n",
    "c_t = fit.e_to_c(enh_tissue, k_tissue, r0_tissue, c_to_r_model, signal_model)\n",
    "\n",
    "fig, ax = plt.subplots(3,2)\n",
    "ax[0,0].plot(t, s_vif, '.', label='vif signal')\n",
    "ax[0,1].plot(t, s_tissue, '.', label='tissue signal')\n",
    "ax[1,0].plot(t, enh_vif, '.', label='vif enh')\n",
    "ax[1,1].plot(t, enh_tissue, '.', label='tissue enh')\n",
    "ax[2,0].plot(t, c_p_vif, '.', label='vif plasma conc')\n",
    "ax[2,1].plot(t, c_t, '.', label='tissue conc')\n",
    "[a.legend() for a in ax.flatten()];"
   ]
  },
  {
   "cell_type": "markdown",
   "id": "liberal-excerpt",
   "metadata": {},
   "source": [
    "### Fit tissue concentration to pharmacokinetic model"
   ]
  },
  {
   "cell_type": "code",
   "execution_count": 10,
   "id": "iraqi-hughes",
   "metadata": {},
   "outputs": [
    {
     "ename": "AttributeError",
     "evalue": "module 'dce.fit' has no attribute 'c_to_pkp'",
     "output_type": "error",
     "traceback": [
      "\u001b[1;31m---------------------------------------------------------------------------\u001b[0m",
      "\u001b[1;31mAttributeError\u001b[0m                            Traceback (most recent call last)",
      "\u001b[1;32m<ipython-input-10-1dfdfd8fb7e1>\u001b[0m in \u001b[0;36m<module>\u001b[1;34m\u001b[0m\n\u001b[0;32m     11\u001b[0m             't_mask': np.array(np.concatenate([np.zeros(7), np.ones(25)]),dtype=bool) }\n\u001b[0;32m     12\u001b[0m \u001b[1;33m\u001b[0m\u001b[0m\n\u001b[1;32m---> 13\u001b[1;33m \u001b[0mpk_pars\u001b[0m\u001b[1;33m,\u001b[0m \u001b[0mc_tissue_fit\u001b[0m \u001b[1;33m=\u001b[0m \u001b[0mfit\u001b[0m\u001b[1;33m.\u001b[0m\u001b[0mc_to_pkp\u001b[0m\u001b[1;33m(\u001b[0m\u001b[0mc_t\u001b[0m\u001b[1;33m,\u001b[0m \u001b[0mpk_model\u001b[0m\u001b[1;33m,\u001b[0m \u001b[0mfit_opts\u001b[0m\u001b[1;33m)\u001b[0m\u001b[1;33m\u001b[0m\u001b[1;33m\u001b[0m\u001b[0m\n\u001b[0m\u001b[0;32m     14\u001b[0m \u001b[1;33m\u001b[0m\u001b[0m\n\u001b[0;32m     15\u001b[0m \u001b[0mprint\u001b[0m\u001b[1;33m(\u001b[0m\u001b[0mpk_pars\u001b[0m\u001b[1;33m)\u001b[0m\u001b[1;33m\u001b[0m\u001b[1;33m\u001b[0m\u001b[0m\n",
      "\u001b[1;31mAttributeError\u001b[0m: module 'dce.fit' has no attribute 'c_to_pkp'"
     ]
    }
   ],
   "source": [
    "from dce import fit, aifs, pk_models\n",
    "\n",
    "#c_t = np.array([-0.000310,0.000490,-0.000210,0.001190,0.011598,0.026225,0.027290,0.022144,0.018885,0.019074,0.016927,0.015324,0.012559,0.017440,0.014151,0.012811,0.010499,0.014873,0.015946,0.010926,0.011949,0.011145,0.015946,0.011714,0.010395,0.010499,0.015324,0.011714,0.012434,0.009190,0.010817,0.010926])\n",
    "#c_p_vif = np.array([-0.003168,0.001647,0.001462,-0.009834,0.819594,2.625424,3.503638,2.871388,2.306862,2.006884,1.834974,1.534070,1.445164,1.347930,1.269811,1.257239,1.184376,1.161039,1.126893,1.126893,1.061584,1.072200,1.020162,1.010061,0.980355,0.961038,0.942102,0.923539,0.923539,0.914395,0.852873,0.844428])\n",
    "\n",
    "aif = aifs.patient_specific(t, c_p_vif)\n",
    "dt_interp_request = t[1]-t[0]\n",
    "\n",
    "pk_model = pk_models.patlak(t, dt_interp_request, aif) \n",
    "fit_opts = {'pk_pars_0': {'vp': 0.2, 'ps': 1e-4},\n",
    "            't_mask': np.array(np.concatenate([np.zeros(7), np.ones(25)]),dtype=bool) }\n",
    "\n",
    "pk_pars, c_tissue_fit = fit.conc_to_pkp(c_t, pk_model, fit_opts)\n",
    "\n",
    "print(pk_pars)\n",
    "\n",
    "fig, ax = plt.subplots()\n",
    "ax.plot(t, c_t, '.', label='tissue conc')\n",
    "ax.plot(t, c_tissue_fit, '-', label='model fit')\n",
    "ax.legend();\n",
    "\n",
    "# expected values for FXL fit:\n",
    "# Patlak (multiple linear regression): vp = 0.0080, ps = 2.01e-4\n",
    "# Patlak (non-linear): vp = 0.0080, ps = 2.01e-4\n",
    "# Patlak plot: vp = 0.0087, ps = 1.61e-4"
   ]
  }
 ],
 "metadata": {
  "kernelspec": {
   "display_name": "Python 3",
   "language": "python",
   "name": "python3"
  },
  "language_info": {
   "codemirror_mode": {
    "name": "ipython",
    "version": 3
   },
   "file_extension": ".py",
   "mimetype": "text/x-python",
   "name": "python",
   "nbconvert_exporter": "python",
   "pygments_lexer": "ipython3",
   "version": "3.7.6"
  }
 },
 "nbformat": 4,
 "nbformat_minor": 5
}
